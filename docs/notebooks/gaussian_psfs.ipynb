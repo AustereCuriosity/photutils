{
 "cells": [
  {
   "cell_type": "markdown",
   "metadata": {},
   "source": [
    "# PSF photometry on artificial Gaussian stars"
   ]
  },
  {
   "cell_type": "code",
   "execution_count": null,
   "metadata": {
    "collapsed": false
   },
   "outputs": [],
   "source": [
    "import numpy as np\n",
    "\n",
    "from astropy import units as u\n",
    "from astropy.coordinates import SkyCoord\n",
    "from astropy.table import Table\n",
    "from astropy.io import fits\n",
    "from astropy.modeling import models, fitting"
   ]
  },
  {
   "cell_type": "code",
   "execution_count": null,
   "metadata": {
    "collapsed": false
   },
   "outputs": [],
   "source": [
    "from photutils import psf"
   ]
  },
  {
   "cell_type": "code",
   "execution_count": null,
   "metadata": {
    "collapsed": false
   },
   "outputs": [],
   "source": [
    "%matplotlib inline\n",
    "from matplotlib import rcParams\n",
    "from matplotlib import pyplot as plt\n",
    "from mpl_toolkits.mplot3d import Axes3D\n",
    "rcParams['image.cmap'] = 'viridis'\n",
    "rcParams['image.aspect'] = 1  # to get \"real\" images\n",
    "rcParams['figure.figsize'] = (15,10)"
   ]
  },
  {
   "cell_type": "markdown",
   "metadata": {},
   "source": [
    "## First make a fake image with trivial gaussian PSFs "
   ]
  },
  {
   "cell_type": "code",
   "execution_count": null,
   "metadata": {
    "collapsed": false
   },
   "outputs": [],
   "source": [
    "gmod = models.Gaussian2D(x_stddev=2.5, y_stddev=2.5)"
   ]
  },
  {
   "cell_type": "code",
   "execution_count": null,
   "metadata": {
    "collapsed": false
   },
   "outputs": [],
   "source": [
    "#uses bounding box\n",
    "plt.imshow(gmod.render(), vmin=0, vmax=1)\n",
    "plt.colorbar()"
   ]
  },
  {
   "cell_type": "code",
   "execution_count": null,
   "metadata": {
    "collapsed": false
   },
   "outputs": [],
   "source": [
    "gmod2 = gmod.copy()\n",
    "gmod2.bounding_box = None\n",
    "coo = np.mgrid[-3:3:100j, -3:3:100j]\n",
    "\n",
    "plt.gca().aspect = 1\n",
    "plt.pcolor(*coo,gmod2.render(coords=coo), vmin=0, vmax=1)\n",
    "plt.colorbar()"
   ]
  },
  {
   "cell_type": "markdown",
   "metadata": {},
   "source": [
    "## Now create an image that's just got a few PSF stars"
   ]
  },
  {
   "cell_type": "code",
   "execution_count": null,
   "metadata": {
    "collapsed": true
   },
   "outputs": [],
   "source": [
    "nstars = 15\n",
    "poisson_scale = 15\n",
    "bkg = 1\n",
    "flux_scale = 2500\n",
    "\n",
    "\n",
    "im = np.ones((512,512))*bkg\n",
    "\n",
    "np.random.seed(123456789)\n",
    "\n",
    "xs, ys = np.random.rand(2, nstars)*512\n",
    "fluxes = (np.random.rand(nstars)+.5)*flux_scale"
   ]
  },
  {
   "cell_type": "code",
   "execution_count": null,
   "metadata": {
    "collapsed": false
   },
   "outputs": [],
   "source": [
    "gmod_star = models.Gaussian2D(x_stddev=12, y_stddev=10)\n",
    "round_sigma = (gmod_star.x_stddev*gmod_star.y_stddev)**0.5\n",
    "\n",
    "\n",
    "intab = Table(names=['flux_0', 'x_0', 'y_0'], data=[fluxes, xs, ys])\n",
    "\n",
    "for row in intab:\n",
    "    del gmod_star.bounding_box  # resets the bounding box to the default\n",
    "    gmod_star.x_mean = row['x_0']\n",
    "    gmod_star.y_mean = row['y_0']\n",
    "    gmod_star.amplitude = row['flux_0']/(2*np.pi*gmod_star.x_stddev*gmod_star.y_stddev)\n",
    "    gmod_star.render(im)\n",
    "    \n",
    "pim = np.random.poisson(poisson_scale*im)/poisson_scale\n",
    "\n",
    "plt.subplot(1,2,1)\n",
    "plt.imshow(im, vmin=np.min(pim), vmax=np.max(im))\n",
    "plt.colorbar(orientation='horizontal')\n",
    "\n",
    "plt.subplot(1,2,2)\n",
    "plt.imshow(pim, vmin=np.min(pim), vmax=np.max(im))\n",
    "plt.colorbar(orientation='horizontal')\n",
    "\n",
    "print(np.min(pim), np.max(im), np.max(pim))"
   ]
  },
  {
   "cell_type": "code",
   "execution_count": null,
   "metadata": {
    "collapsed": false
   },
   "outputs": [],
   "source": [
    "gmodi_star = psf.IntegratedGaussianPSF(sigma=round_sigma)\n",
    "\n",
    "intab = Table(names=['flux_0', 'x_0', 'y_0'], data=[fluxes, xs, ys])\n",
    "\n",
    "imi = im.copy()\n",
    "\n",
    "for row in intab:\n",
    "    del gmodi_star.bounding_box  # resets the bounding box to the default\n",
    "    gmodi_star.x_0 = row['x_0']\n",
    "    gmodi_star.y_0 = row['y_0']\n",
    "    gmodi_star.flux = row['flux_0']\n",
    "    gmodi_star.render(imi)\n",
    "    \n",
    "pimi = np.random.poisson(poisson_scale*imi)/poisson_scale\n",
    "\n",
    "plt.subplot(1,2,1)\n",
    "plt.imshow(imi, vmin=np.min(pimi), vmax=np.max(imi))\n",
    "plt.colorbar(orientation='horizontal')\n",
    "\n",
    "plt.subplot(1,2,2)\n",
    "plt.imshow(pimi, vmin=np.min(pimi), vmax=np.max(imi))\n",
    "plt.colorbar(orientation='horizontal')\n",
    "\n",
    "print(np.min(pimi), np.max(im), np.max(pimi))"
   ]
  },
  {
   "cell_type": "code",
   "execution_count": null,
   "metadata": {
    "collapsed": true
   },
   "outputs": [],
   "source": [
    "def residuals_psf_sub_table(outtab, title=None):\n",
    "    plt.subplot(3,1,1)\n",
    "    if title is not None:\n",
    "        plt.title(title)\n",
    "    plt.scatter(np.arange(len(outtab))+1, (outtab['flux_fit']-outtab['flux_0'])*100./outtab['flux_0'])\n",
    "    plt.axhline(0, ls='--', c='k')\n",
    "    plt.ylabel('fluxperc')\n",
    "    plt.xlim(0.5, len(outtab)+.5)\n",
    "\n",
    "    plt.subplot(3,1,2)\n",
    "    plt.scatter(np.arange(len(outtab))+1, outtab['x_fit']-outtab['x_0'])\n",
    "    plt.axhline(0, ls='--', c='k')\n",
    "    plt.ylabel('dx')\n",
    "    plt.xlim(0.5, len(outtab)+.5)\n",
    "\n",
    "    plt.subplot(3,1,3)\n",
    "    plt.scatter(np.arange(len(outtab))+1, outtab['y_fit']-outtab['y_0'])\n",
    "    plt.axhline(0, ls='--', c='k')\n",
    "    plt.ylabel('dy')\n",
    "    plt.xlim(0.5, len(outtab)+.5)\n",
    "    \n",
    "    plt.tight_layout()"
   ]
  },
  {
   "cell_type": "code",
   "execution_count": null,
   "metadata": {
    "collapsed": false
   },
   "outputs": [],
   "source": [
    "# note that this assumes the underlying image is the same as the above\n",
    "def compare_psf_sub(subim, pim, im, kw1s={}, kw2s={}, kw3s={}, kw4s={}):\n",
    "    subps = (2, 2)\n",
    "    cborient = 'vertical'\n",
    "    \n",
    "    plt.subplot(*subps,1)\n",
    "    plt.imshow(pim, **kw1s)\n",
    "    plt.colorbar(orientation=cborient)\n",
    "    plt.title('Base image')\n",
    "\n",
    "    plt.subplot(*subps,2)\n",
    "    plt.imshow(subim, **kw2s)\n",
    "    plt.colorbar(orientation=cborient)\n",
    "    plt.title('PSF subtracted image')\n",
    "    print(\"Subtracted image bkg-sub mean:\", np.mean(subim-bkg), 'and SD:', np.std(subim-bkg))\n",
    "\n",
    "    plt.subplot(*subps,3)\n",
    "    plt.imshow(im, **kw3s)\n",
    "    plt.colorbar(orientation=cborient)\n",
    "    plt.title('Real noise-free images')\n",
    "\n",
    "    plt.subplot(*subps,4)\n",
    "    plt.imshow(pim-subim, **kw4s)\n",
    "    plt.colorbar(orientation=cborient)\n",
    "    plt.title('PSF images')"
   ]
  },
  {
   "cell_type": "markdown",
   "metadata": {},
   "source": [
    "## Now do the actual PSF fitting and subtraction"
   ]
  },
  {
   "cell_type": "code",
   "execution_count": null,
   "metadata": {
    "collapsed": false
   },
   "outputs": [],
   "source": [
    "psf_guess = psf.IntegratedGaussianPSF(flux=1, sigma=round_sigma)\n",
    "psf_guess.flux.fixed = psf_guess.x_0.fixed = psf_guess.y_0.fixed = False\n",
    "psf_guess.x_0.sigma = True"
   ]
  },
  {
   "cell_type": "markdown",
   "metadata": {},
   "source": [
    "### Start with perfect inputs "
   ]
  },
  {
   "cell_type": "markdown",
   "metadata": {},
   "source": [
    "Assuming you know the flux and locations perfectly, how well can you subtract?"
   ]
  },
  {
   "cell_type": "code",
   "execution_count": null,
   "metadata": {
    "collapsed": false
   },
   "outputs": [],
   "source": [
    "subimi = psf.subtract_psf(pimi, psf_guess, (xs, ys, fluxes))\n",
    "compare_psf_sub(subimi, pimi, imi)"
   ]
  },
  {
   "cell_type": "markdown",
   "metadata": {},
   "source": [
    "Now what about when the PSF doesn't quite match? (The image was generated with a slightly elliptical PSF)"
   ]
  },
  {
   "cell_type": "code",
   "execution_count": null,
   "metadata": {
    "collapsed": false
   },
   "outputs": [],
   "source": [
    "subim = psf.subtract_psf(pim, psf_guess, (xs, ys, fluxes))\n",
    "compare_psf_sub(subim, pim, im)"
   ]
  },
  {
   "cell_type": "code",
   "execution_count": null,
   "metadata": {
    "collapsed": true
   },
   "outputs": [],
   "source": [
    "# fitting region used by all the below \n",
    "fitshape = (8,8)"
   ]
  },
  {
   "cell_type": "markdown",
   "metadata": {},
   "source": [
    "## Now try actually *fitting* the target stars"
   ]
  },
  {
   "cell_type": "markdown",
   "metadata": {},
   "source": [
    "### Perfect info on location/flux"
   ]
  },
  {
   "cell_type": "markdown",
   "metadata": {},
   "source": [
    "Start with perfect initial gluesses for the flux and location, starting with a perfect PSF model "
   ]
  },
  {
   "cell_type": "code",
   "execution_count": null,
   "metadata": {
    "collapsed": false
   },
   "outputs": [],
   "source": [
    "# with integrated psf\n",
    "outtabi = psf.psf_photometry(pimi - bkg, intab, psf_guess, fitshape)\n",
    "outtabi.show_in_notebook()"
   ]
  },
  {
   "cell_type": "code",
   "execution_count": null,
   "metadata": {
    "collapsed": false
   },
   "outputs": [],
   "source": [
    "subimi = psf.subtract_psf(pimi, psf_guess, outtabi)\n",
    "compare_psf_sub(subimi, pimi, imi)"
   ]
  },
  {
   "cell_type": "code",
   "execution_count": null,
   "metadata": {
    "collapsed": false
   },
   "outputs": [],
   "source": [
    "plt.figure(figsize=(12, 5))\n",
    "residuals_psf_sub_table(outtabi)"
   ]
  },
  {
   "cell_type": "markdown",
   "metadata": {},
   "source": [
    "And now with a slightly-wrong model (round model, elliptical PSF)"
   ]
  },
  {
   "cell_type": "code",
   "execution_count": null,
   "metadata": {
    "collapsed": false,
    "scrolled": false
   },
   "outputs": [],
   "source": [
    "outtab = psf.psf_photometry(pim - bkg, intab, psf_guess, fitshape)\n",
    "outtab.show_in_notebook()"
   ]
  },
  {
   "cell_type": "code",
   "execution_count": null,
   "metadata": {
    "collapsed": false
   },
   "outputs": [],
   "source": [
    "subim = psf.subtract_psf(pim, psf_guess, outtab)\n",
    "compare_psf_sub(subim, pim, im)"
   ]
  },
  {
   "cell_type": "code",
   "execution_count": null,
   "metadata": {
    "collapsed": false
   },
   "outputs": [],
   "source": [
    "plt.figure(figsize=(12, 5))\n",
    "residuals_psf_sub_table(outtab)"
   ]
  },
  {
   "cell_type": "markdown",
   "metadata": {},
   "source": [
    "### Perfect input location, but incorrect flux guess"
   ]
  },
  {
   "cell_type": "code",
   "execution_count": null,
   "metadata": {
    "collapsed": true
   },
   "outputs": [],
   "source": [
    "intab2 = intab['x_0', 'y_0']"
   ]
  },
  {
   "cell_type": "markdown",
   "metadata": {},
   "source": [
    "As before, start with a well-matched model and PSF"
   ]
  },
  {
   "cell_type": "code",
   "execution_count": null,
   "metadata": {
    "collapsed": false
   },
   "outputs": [],
   "source": [
    "outtabi = psf.psf_photometry(pimi - bkg, intab2, psf_guess, fitshape, store_fit_info=True)\n",
    "outtabi['flux_0'] = intab['flux_0']\n",
    "outtabi.show_in_notebook()"
   ]
  },
  {
   "cell_type": "code",
   "execution_count": null,
   "metadata": {
    "collapsed": false
   },
   "outputs": [],
   "source": [
    "subimi = psf.subtract_psf(pimi, psf_guess, outtab)\n",
    "compare_psf_sub(subimi, pimi, imi)"
   ]
  },
  {
   "cell_type": "code",
   "execution_count": null,
   "metadata": {
    "collapsed": false
   },
   "outputs": [],
   "source": [
    "plt.figure(figsize=(12, 5))\n",
    "residuals_psf_sub_table(outtabi)"
   ]
  },
  {
   "cell_type": "markdown",
   "metadata": {},
   "source": [
    "And try again with slightly wrong PSF model"
   ]
  },
  {
   "cell_type": "code",
   "execution_count": null,
   "metadata": {
    "collapsed": false
   },
   "outputs": [],
   "source": [
    "outtab = psf.psf_photometry(pim - bkg, intab2, psf_guess, fitshape, store_fit_info=True)\n",
    "outtab['flux_0'] = intab['flux_0']\n",
    "outtab.show_in_notebook()"
   ]
  },
  {
   "cell_type": "code",
   "execution_count": null,
   "metadata": {
    "collapsed": false
   },
   "outputs": [],
   "source": [
    "subim = psf.subtract_psf(pim, psf_guess, outtab)\n",
    "compare_psf_sub(subim, pim, im)"
   ]
  },
  {
   "cell_type": "code",
   "execution_count": null,
   "metadata": {
    "collapsed": false
   },
   "outputs": [],
   "source": [
    "plt.figure(figsize=(12, 5))\n",
    "residuals_psf_sub_table(outtab)"
   ]
  },
  {
   "cell_type": "markdown",
   "metadata": {},
   "source": [
    "### Now try with a mocked star-finder that's good but not perfect at the few percent level"
   ]
  },
  {
   "cell_type": "code",
   "execution_count": null,
   "metadata": {
    "collapsed": false
   },
   "outputs": [],
   "source": [
    "x_finder = xs + np.random.randn(*xs.shape)*.1\n",
    "y_finder = ys + np.random.randn(*ys.shape)*.1\n",
    "finder_flux = fluxes + np.random.randn(*fluxes.shape)*fluxes/25\n",
    "\n",
    "# percent error in the flux guesses\n",
    "(finder_flux-fluxes)*100/fluxes"
   ]
  },
  {
   "cell_type": "code",
   "execution_count": null,
   "metadata": {
    "collapsed": false
   },
   "outputs": [],
   "source": [
    "intab3 = Table(names=['x_0', 'y_0', 'flux_0'], data=[x_finder, y_finder, finder_flux])"
   ]
  },
  {
   "cell_type": "markdown",
   "metadata": {},
   "source": [
    "Again, we start with the matched PSF model"
   ]
  },
  {
   "cell_type": "code",
   "execution_count": null,
   "metadata": {
    "collapsed": false
   },
   "outputs": [],
   "source": [
    "outtabi = psf.psf_photometry(pimi - bkg, intab3, psf_guess, fitshape, store_fit_info=True)\n",
    "outtabi['flux_input'] = intab3['flux_0']\n",
    "outtabi['flux_0'] = intab['flux_0']\n",
    "outtabi.show_in_notebook()"
   ]
  },
  {
   "cell_type": "code",
   "execution_count": null,
   "metadata": {
    "collapsed": false
   },
   "outputs": [],
   "source": [
    "subimi = psf.subtract_psf(pimi, psf_guess, outtab)\n",
    "compare_psf_sub(subimi, pimi, imi)"
   ]
  },
  {
   "cell_type": "code",
   "execution_count": null,
   "metadata": {
    "collapsed": false
   },
   "outputs": [],
   "source": [
    "plt.figure(figsize=(12, 5))\n",
    "residuals_psf_sub_table(outtabi)"
   ]
  },
  {
   "cell_type": "markdown",
   "metadata": {},
   "source": [
    "And then try again with the mis-matched set"
   ]
  },
  {
   "cell_type": "code",
   "execution_count": null,
   "metadata": {
    "collapsed": false
   },
   "outputs": [],
   "source": [
    "outtab = psf.psf_photometry(pim - bkg, intab3, psf_guess, fitshape, store_fit_info=True)\n",
    "outtab['flux_input'] = intab3['flux_0']\n",
    "outtab['flux_0'] = intab['flux_0']\n",
    "outtab.show_in_notebook()"
   ]
  },
  {
   "cell_type": "code",
   "execution_count": null,
   "metadata": {
    "collapsed": false
   },
   "outputs": [],
   "source": [
    "subim = psf.subtract_psf(pim, psf_guess, outtab)\n",
    "compare_psf_sub(subim, pim, im)"
   ]
  },
  {
   "cell_type": "code",
   "execution_count": null,
   "metadata": {
    "collapsed": false
   },
   "outputs": [],
   "source": [
    "plt.figure(figsize=(12, 5))\n",
    "residuals_psf_sub_table(outtab)"
   ]
  }
 ],
 "metadata": {
  "kernelspec": {
   "display_name": "Python 3",
   "language": "python",
   "name": "python3"
  },
  "language_info": {
   "codemirror_mode": {
    "name": "ipython",
    "version": 3
   },
   "file_extension": ".py",
   "mimetype": "text/x-python",
   "name": "python",
   "nbconvert_exporter": "python",
   "pygments_lexer": "ipython3",
   "version": "3.5.1"
  }
 },
 "nbformat": 4,
 "nbformat_minor": 0
}
